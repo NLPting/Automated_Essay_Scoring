{
 "cells": [
  {
   "cell_type": "code",
   "execution_count": 2,
   "metadata": {},
   "outputs": [],
   "source": [
    "import sys\n",
    "sys.path.append(\"..\")\n",
    "import numpy as np\n",
    "import keras.backend as K\n",
    "import nea.asap_reader as dataset\n",
    "import nea.utils as U"
   ]
  },
  {
   "cell_type": "code",
   "execution_count": 3,
   "metadata": {},
   "outputs": [],
   "source": [
    "import tensorflow as tf\n",
    "from keras.backend.tensorflow_backend import set_session\n",
    "config = tf.ConfigProto()\n",
    "config.gpu_options.allow_growth = True\n",
    "config.gpu_options.visible_device_list = \"1\"\n",
    "set_session(tf.Session(config=config))"
   ]
  },
  {
   "cell_type": "code",
   "execution_count": 4,
   "metadata": {},
   "outputs": [],
   "source": [
    "train_path = '../../data/fold_0/train.tsv'\n",
    "dev_path = '../../data/fold_0/dev.tsv'\n",
    "test_path = '../../data/fold_0/test.tsv'\n",
    "prompt_id = int(1)\n",
    "vocab_size = 4000\n",
    "maxlen = 0\n",
    "vocab_path = None\n",
    "out_dir = 'output'\n",
    "emb_dim = 50"
   ]
  },
  {
   "cell_type": "code",
   "execution_count": 5,
   "metadata": {},
   "outputs": [],
   "source": [
    "from keras.preprocessing import sequence\n",
    "# data_x is a list of lists\n",
    "(train_x, train_y, train_pmt), (dev_x, dev_y, dev_pmt), (test_x, test_y, test_pmt), vocab, vocab_size, overal_maxlen, num_outputs = dataset.get_data(\n",
    "(train_path, dev_path, test_path), prompt_id, vocab_size, maxlen, tokenize_text=True, to_lower=True, sort_by_len=False, vocab_path=vocab_path)"
   ]
  },
  {
   "cell_type": "code",
   "execution_count": 6,
   "metadata": {},
   "outputs": [],
   "source": [
    "from keras.preprocessing import sequence\n",
    "train_x = sequence.pad_sequences(train_x, maxlen=overal_maxlen)\n",
    "dev_x = sequence.pad_sequences(dev_x, maxlen=overal_maxlen)\n",
    "test_x = sequence.pad_sequences(test_x, maxlen=overal_maxlen)"
   ]
  },
  {
   "cell_type": "code",
   "execution_count": 7,
   "metadata": {},
   "outputs": [],
   "source": [
    "train_y = np.array(train_y, dtype=K.floatx())\n",
    "dev_y = np.array(dev_y, dtype=K.floatx())\n",
    "test_y = np.array(test_y, dtype=K.floatx())"
   ]
  },
  {
   "cell_type": "code",
   "execution_count": 8,
   "metadata": {},
   "outputs": [],
   "source": [
    "train_pmt = np.array(train_pmt, dtype='int32')\n",
    "dev_pmt = np.array(dev_pmt, dtype='int32')\n",
    "test_pmt = np.array(test_pmt, dtype='int32')"
   ]
  },
  {
   "cell_type": "code",
   "execution_count": 9,
   "metadata": {},
   "outputs": [],
   "source": [
    "train_mean = train_y.mean(axis=0)\n",
    "train_std = train_y.std(axis=0)\n",
    "dev_mean = dev_y.mean(axis=0)\n",
    "dev_std = dev_y.std(axis=0)\n",
    "test_mean = test_y.mean(axis=0)\n",
    "test_std = test_y.std(axis=0)"
   ]
  },
  {
   "cell_type": "code",
   "execution_count": 10,
   "metadata": {},
   "outputs": [],
   "source": [
    "bincounts, mfs_list = U.bincounts(train_y)\n",
    "with open(out_dir+'/bincounts.txt', 'w+') as output_file:\n",
    "    for bincount in bincounts:\n",
    "        output_file.write(str(bincount) + '\\n')"
   ]
  },
  {
   "cell_type": "code",
   "execution_count": 11,
   "metadata": {},
   "outputs": [
    {
     "name": "stdout",
     "output_type": "stream",
     "text": [
      "Statistics:\n",
      "  train_x shape: (1070, 939)\n",
      "  dev_x shape:   (356, 939)\n",
      "  test_x shape:  (357, 939)\n",
      "  train_y shape: (1070,)\n",
      "  dev_y shape:   (356,)\n",
      "  test_y shape:  (357,)\n",
      "  train_y mean: 8.553271, stdev: 1.5372216, MFC: [8.0]\n"
     ]
    }
   ],
   "source": [
    "print('Statistics:')\n",
    "print('  train_x shape: ' + str(np.array(train_x).shape))\n",
    "print('  dev_x shape:   ' + str(np.array(dev_x).shape))\n",
    "print('  test_x shape:  ' + str(np.array(test_x).shape))\n",
    "print('  train_y shape: ' + str(train_y.shape))\n",
    "print('  dev_y shape:   ' + str(dev_y.shape))\n",
    "print('  test_y shape:  ' + str(test_y.shape))\n",
    "print('  train_y mean: %s, stdev: %s, MFC: %s' % (str(train_mean), str(train_std), str(mfs_list)))"
   ]
  },
  {
   "cell_type": "code",
   "execution_count": 12,
   "metadata": {},
   "outputs": [
    {
     "name": "stderr",
     "output_type": "stream",
     "text": [
      "/home/nlplab/ting/anaconda3/envs/elmobilstm/lib/python3.6/site-packages/ipykernel_launcher.py:3: DeprecationWarning: Both axis > a.ndim and axis < -a.ndim - 1 are deprecated and will raise an AxisError in the future.\n",
      "  This is separate from the ipykernel package so we can avoid doing imports until\n"
     ]
    },
    {
     "data": {
      "text/plain": [
       "1"
      ]
     },
     "execution_count": 12,
     "metadata": {},
     "output_type": "execute_result"
    }
   ],
   "source": [
    "initial_mean_value = train_y.mean(axis=0)\n",
    "if initial_mean_value.ndim == 0:\n",
    "    initial_mean_value = np.expand_dims(initial_mean_value, axis=1)\n",
    "num_outputs = len(initial_mean_value)\n",
    "num_outputs"
   ]
  },
  {
   "cell_type": "code",
   "execution_count": 13,
   "metadata": {},
   "outputs": [],
   "source": [
    "# We need the dev and test sets in the original scale for evaluation\n",
    "dev_y_org = dev_y.astype(dataset.get_ref_dtype())\n",
    "test_y_org = test_y.astype(dataset.get_ref_dtype())\n",
    "# Convert scores to boundary of [0 1] for training and evaluation (loss calculation)\n",
    "train_y = dataset.get_model_friendly_scores(train_y, train_pmt)\n",
    "dev_y = dataset.get_model_friendly_scores(dev_y, dev_pmt)\n",
    "test_y = dataset.get_model_friendly_scores(test_y, test_pmt)"
   ]
  },
  {
   "cell_type": "code",
   "execution_count": 27,
   "metadata": {},
   "outputs": [],
   "source": [
    "from keras.models import Sequential, Model\n",
    "from keras.layers import Dense, Embedding, Activation\n",
    "from keras.layers import Dropout, GlobalAveragePooling1D\n",
    "from keras.layers import LSTM , Bidirectional\n",
    "from nea.optimizers import get_optimizer"
   ]
  },
  {
   "cell_type": "code",
   "execution_count": 28,
   "metadata": {},
   "outputs": [],
   "source": [
    "loss = 'mean_squared_error'\n",
    "metric = 'mean_absolute_error'\n",
    "opt = get_optimizer('rmsprop')"
   ]
  },
  {
   "cell_type": "code",
   "execution_count": 29,
   "metadata": {},
   "outputs": [],
   "source": [
    "model = Sequential()\n",
    "model.add(Embedding(input_dim=vocab_size, output_dim=50, input_length=overal_maxlen))\n",
    "model.add(LSTM(256 , return_sequences=True))\n",
    "model.add(Dropout(0.5))\n",
    "model.add(GlobalAveragePooling1D())\n",
    "model.add(Dense(num_outputs, activation='sigmoid'))"
   ]
  },
  {
   "cell_type": "code",
   "execution_count": 30,
   "metadata": {},
   "outputs": [
    {
     "name": "stdout",
     "output_type": "stream",
     "text": [
      "_________________________________________________________________\n",
      "Layer (type)                 Output Shape              Param #   \n",
      "=================================================================\n",
      "embedding_2 (Embedding)      (None, 939, 50)           200000    \n",
      "_________________________________________________________________\n",
      "lstm_2 (LSTM)                (None, 939, 256)          314368    \n",
      "_________________________________________________________________\n",
      "dropout_2 (Dropout)          (None, 939, 256)          0         \n",
      "_________________________________________________________________\n",
      "global_average_pooling1d_2 ( (None, 256)               0         \n",
      "_________________________________________________________________\n",
      "dense_2 (Dense)              (None, 1)                 257       \n",
      "=================================================================\n",
      "Total params: 514,625\n",
      "Trainable params: 514,625\n",
      "Non-trainable params: 0\n",
      "_________________________________________________________________\n"
     ]
    }
   ],
   "source": [
    "model.summary()"
   ]
  },
  {
   "cell_type": "code",
   "execution_count": 31,
   "metadata": {},
   "outputs": [],
   "source": [
    "model.compile(loss=loss,\n",
    "              optimizer=opt,\n",
    "              metrics=[metric])"
   ]
  },
  {
   "cell_type": "code",
   "execution_count": 32,
   "metadata": {},
   "outputs": [
    {
     "name": "stdout",
     "output_type": "stream",
     "text": [
      "[Dev]   loss: 0.0465, metric: 0.1771, mean: 6.995 (8.508), stdev: 0.003 (1.539)\n",
      "[Test]  loss: 0.0455, metric: 0.1802, mean: 6.994 (8.473), stdev: 0.003 (1.538)\n",
      "[DEV]   QWK:  0.000, LWK: 0.000, PRS: 0.803, SPR: 0.798, Tau: 0.660 (Best @ -1: {{0.000}}, 0.000, 0.803, 0.798, 0.660)\n",
      "[TEST]  QWK:  0.000, LWK: 0.000, PRS: 0.781, SPR: 0.778, Tau: 0.638 (Best @ -1: {{0.000}}, 0.000, 0.781, 0.778, 0.638)\n",
      "--------------------------------------------------------------------------------------------------------------------------\n"
     ]
    }
   ],
   "source": [
    "from nea.evalute import Evaluator\n",
    "evl = Evaluator(dataset, prompt_id, out_dir, dev_x, test_x, dev_y, test_y, dev_y_org, test_y_org)\n",
    "evl.evaluate(model, -1, print_info=True)"
   ]
  },
  {
   "cell_type": "code",
   "execution_count": 33,
   "metadata": {},
   "outputs": [],
   "source": [
    "from keras.callbacks import EarlyStopping, ModelCheckpoint"
   ]
  },
  {
   "cell_type": "code",
   "execution_count": 34,
   "metadata": {},
   "outputs": [],
   "source": [
    "callbacks = [EarlyStopping(monitor='val_loss', patience=5),\n",
    "             ModelCheckpoint(filepath='best_model.h5', monitor='val_loss', save_best_only=True)]"
   ]
  },
  {
   "cell_type": "code",
   "execution_count": null,
   "metadata": {},
   "outputs": [
    {
     "name": "stdout",
     "output_type": "stream",
     "text": [
      "Train on 1070 samples, validate on 356 samples\n",
      "Epoch 1/20\n",
      "1070/1070 [==============================] - 38s 35ms/step - loss: 0.0281 - mean_absolute_error: 0.1264 - val_loss: 0.0263 - val_mean_absolute_error: 0.1218\n",
      "Epoch 2/20\n",
      "1070/1070 [==============================] - 37s 35ms/step - loss: 0.0172 - mean_absolute_error: 0.0997 - val_loss: 0.0126 - val_mean_absolute_error: 0.0817\n",
      "Epoch 3/20\n",
      "1070/1070 [==============================] - 37s 35ms/step - loss: 0.0095 - mean_absolute_error: 0.0755 - val_loss: 0.0074 - val_mean_absolute_error: 0.0676\n",
      "Epoch 4/20\n",
      "1070/1070 [==============================] - 37s 35ms/step - loss: 0.0085 - mean_absolute_error: 0.0722 - val_loss: 0.0072 - val_mean_absolute_error: 0.0647\n",
      "Epoch 5/20\n",
      "1070/1070 [==============================] - 37s 35ms/step - loss: 0.0082 - mean_absolute_error: 0.0701 - val_loss: 0.0077 - val_mean_absolute_error: 0.0655\n",
      "Epoch 6/20\n",
      "1070/1070 [==============================] - 37s 35ms/step - loss: 0.0080 - mean_absolute_error: 0.0696 - val_loss: 0.0075 - val_mean_absolute_error: 0.0670\n",
      "Epoch 7/20\n",
      "1070/1070 [==============================] - 37s 35ms/step - loss: 0.0075 - mean_absolute_error: 0.0682 - val_loss: 0.0089 - val_mean_absolute_error: 0.0733\n",
      "Epoch 8/20\n",
      " 352/1070 [========>.....................] - ETA: 21s - loss: 0.0069 - mean_absolute_error: 0.0644"
     ]
    }
   ],
   "source": [
    "history = model.fit(\n",
    "    train_x , train_y , batch_size=32 , epochs=20 , validation_data=(dev_x , dev_y) , callbacks=callbacks , verbose=1)"
   ]
  },
  {
   "cell_type": "code",
   "execution_count": 23,
   "metadata": {},
   "outputs": [],
   "source": [
    "import pandas as pd\n",
    "hist = pd.DataFrame(history.history)"
   ]
  },
  {
   "cell_type": "code",
   "execution_count": 25,
   "metadata": {},
   "outputs": [
    {
     "data": {
      "image/png": "[encoded data removed]",
      "text/plain": [
       "<Figure size 216x216 with 1 Axes>"
      ]
     },
     "metadata": {},
     "output_type": "display_data"
    }
   ],
   "source": [
    "import matplotlib.pyplot as plt\n",
    "plt.style.use(\"ggplot\")\n",
    "plt.figure(figsize=(3,3))\n",
    "plt.plot(hist[\"loss\"])\n",
    "plt.plot(hist[\"val_loss\"])\n",
    "plt.show()"
   ]
  },
  {
   "cell_type": "code",
   "execution_count": 26,
   "metadata": {},
   "outputs": [
    {
     "name": "stdout",
     "output_type": "stream",
     "text": [
      "[Dev]   loss: 0.0121, metric: 0.0891, mean: 7.805 (8.508), stdev: 1.300 (1.539)\n",
      "[Test]  loss: 0.0124, metric: 0.0886, mean: 7.768 (8.473), stdev: 1.256 (1.538)\n",
      "[DEV]   QWK:  0.733, LWK: 0.492, PRS: 0.835, SPR: 0.829, Tau: 0.693 (Best @ 0: {{0.733}}, 0.492, 0.835, 0.829, 0.693)\n",
      "[TEST]  QWK:  0.709, LWK: 0.470, PRS: 0.829, SPR: 0.819, Tau: 0.682 (Best @ 0: {{0.709}}, 0.470, 0.829, 0.819, 0.682)\n",
      "--------------------------------------------------------------------------------------------------------------------------\n"
     ]
    }
   ],
   "source": [
    "evl.evaluate(model,0)\n",
    "evl.print_info()"
   ]
  },
  {
   "cell_type": "code",
   "execution_count": null,
   "metadata": {},
   "outputs": [],
   "source": []
  }
 ],
 "metadata": {
  "kernelspec": {
   "display_name": "elmoblistm",
   "language": "python",
   "name": "elmoblistm"
  },
  "language_info": {
   "codemirror_mode": {
    "name": "ipython",
    "version": 3
   },
   "file_extension": ".py",
   "mimetype": "text/x-python",
   "name": "python",
   "nbconvert_exporter": "python",
   "pygments_lexer": "ipython3",
   "version": "3.6.7"
  }
 },
 "nbformat": 4,
 "nbformat_minor": 2
}
